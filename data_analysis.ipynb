{
  "cells": [
    {
      "cell_type": "markdown",
      "metadata": {
        "id": "view-in-github",
        "colab_type": "text"
      },
      "source": [
        "<a href=\"https://colab.research.google.com/github/husseinlopez/biologia/blob/main/data_analysis.ipynb\" target=\"_parent\"><img src=\"https://colab.research.google.com/assets/colab-badge.svg\" alt=\"Open In Colab\"/></a>"
      ]
    },
    {
      "cell_type": "markdown",
      "id": "a1970319-eeae-47d3-b1ba-02067e9a4b10",
      "metadata": {
        "id": "a1970319-eeae-47d3-b1ba-02067e9a4b10"
      },
      "source": [
        "# Introducción al análisis de datos con Python"
      ]
    },
    {
      "cell_type": "markdown",
      "id": "e17f3955-565b-4cdb-abf0-d4c3fa38035a",
      "metadata": {
        "tags": [],
        "id": "e17f3955-565b-4cdb-abf0-d4c3fa38035a"
      },
      "source": [
        "Notebook preparado por el Dr. Irvin Hussein López Nava\n",
        "\n",
        "Datos proporcionados por el Dr. Stephen Bullock"
      ]
    },
    {
      "cell_type": "markdown",
      "id": "97600bcf-a82d-4446-8a7c-98dd93fea529",
      "metadata": {
        "id": "97600bcf-a82d-4446-8a7c-98dd93fea529"
      },
      "source": [
        "### Instalación de algunas librerías iniciales"
      ]
    },
    {
      "cell_type": "code",
      "execution_count": 1,
      "id": "86eff430-0d9b-48a5-8d59-9aa6630f8561",
      "metadata": {
        "id": "86eff430-0d9b-48a5-8d59-9aa6630f8561"
      },
      "outputs": [],
      "source": [
        "import pandas as pd"
      ]
    },
    {
      "cell_type": "markdown",
      "source": [
        "### Cargar y mostrar datos"
      ],
      "metadata": {
        "id": "FqQhXzuQ24RV"
      },
      "id": "FqQhXzuQ24RV"
    },
    {
      "cell_type": "code",
      "source": [
        "url = 'https://raw.githubusercontent.com/husseinlopez/biologia/main/datosEM.csv'\n",
        "df = pd.read_csv(url)\n",
        "print(df.head())"
      ],
      "metadata": {
        "colab": {
          "base_uri": "https://localhost:8080/"
        },
        "id": "Du4WQSq829SC",
        "outputId": "a632652b-dda5-4ce0-e330-640cd23282b0"
      },
      "id": "Du4WQSq829SC",
      "execution_count": 5,
      "outputs": [
        {
          "output_type": "stream",
          "name": "stdout",
          "text": [
            "   serial#        Date  DOY  4 Tav1  4 Tav2  6 VPDav   6 SWC  6 GRav  6 GRmx  \\\n",
            "0        1  2017-09-30  273    26.4     NaN      NaN     NaN     NaN     NaN   \n",
            "1        2  2017-10-08  281    22.9    25.8    2.615  0.0142   670.4   794.1   \n",
            "2        3  2017-10-16  289    24.1    31.2    3.663  0.0138   602.5   772.9   \n",
            "3        4  2017-10-24  297    26.6     NaN    3.054     NaN     NaN     NaN   \n",
            "4        5  2017-11-01  305    22.6     NaN    1.357     NaN     NaN     NaN   \n",
            "\n",
            "   4 IG 8d  ...  6 IG 8d  6 GPPm  6 FPARm  5 Tav  5 Tmax  5 RHmin  5 VPDav  \\\n",
            "0    15.38  ...    24.07    12.4     0.23    NaN     NaN      NaN      NaN   \n",
            "1    11.77  ...    21.61    13.4     0.26   19.0    29.1     31.5      1.3   \n",
            "2    10.42  ...    25.25     8.3     0.22   21.5    31.9     22.5      2.0   \n",
            "3    12.85  ...    26.59     7.3     0.22   20.6    30.1     29.3      1.7   \n",
            "4    10.96  ...      NaN     8.9     0.12   15.3    23.3     47.8      0.6   \n",
            "\n",
            "   5 IG 8d  5 GPPm  5 FPARm  \n",
            "0     8.26    14.4     0.27  \n",
            "1     6.96    13.4     0.26  \n",
            "2     6.77     9.7     0.26  \n",
            "3     8.29     9.0     0.27  \n",
            "4     3.51    10.9     0.13  \n",
            "\n",
            "[5 rows x 30 columns]\n"
          ]
        }
      ]
    }
  ],
  "metadata": {
    "kernelspec": {
      "display_name": "Python 3 (ipykernel)",
      "language": "python",
      "name": "python3"
    },
    "language_info": {
      "codemirror_mode": {
        "name": "ipython",
        "version": 3
      },
      "file_extension": ".py",
      "mimetype": "text/x-python",
      "name": "python",
      "nbconvert_exporter": "python",
      "pygments_lexer": "ipython3",
      "version": "3.9.5"
    },
    "colab": {
      "provenance": [],
      "include_colab_link": true
    }
  },
  "nbformat": 4,
  "nbformat_minor": 5
}