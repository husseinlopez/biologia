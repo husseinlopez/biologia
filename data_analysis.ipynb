{
  "cells": [
    {
      "cell_type": "markdown",
      "metadata": {
        "id": "view-in-github",
        "colab_type": "text"
      },
      "source": [
        "<a href=\"https://colab.research.google.com/github/husseinlopez/biologia/blob/main/data_analysis.ipynb\" target=\"_parent\"><img src=\"https://colab.research.google.com/assets/colab-badge.svg\" alt=\"Open In Colab\"/></a>"
      ]
    },
    {
      "cell_type": "markdown",
      "id": "a1970319-eeae-47d3-b1ba-02067e9a4b10",
      "metadata": {
        "id": "a1970319-eeae-47d3-b1ba-02067e9a4b10"
      },
      "source": [
        "# Introducción al análisis de datos con Python"
      ]
    },
    {
      "cell_type": "markdown",
      "id": "e17f3955-565b-4cdb-abf0-d4c3fa38035a",
      "metadata": {
        "tags": [],
        "id": "e17f3955-565b-4cdb-abf0-d4c3fa38035a"
      },
      "source": [
        "Notebook preparado por el Dr. Irvin Hussein López Nava\n",
        "\n",
        "Datos proporcionados por el Dr. Stephen Bullock"
      ]
    },
    {
      "cell_type": "markdown",
      "id": "97600bcf-a82d-4446-8a7c-98dd93fea529",
      "metadata": {
        "id": "97600bcf-a82d-4446-8a7c-98dd93fea529"
      },
      "source": [
        "### Instalación de Python"
      ]
    },
    {
      "cell_type": "code",
      "execution_count": null,
      "id": "86eff430-0d9b-48a5-8d59-9aa6630f8561",
      "metadata": {
        "id": "86eff430-0d9b-48a5-8d59-9aa6630f8561"
      },
      "outputs": [],
      "source": []
    }
  ],
  "metadata": {
    "kernelspec": {
      "display_name": "Python 3 (ipykernel)",
      "language": "python",
      "name": "python3"
    },
    "language_info": {
      "codemirror_mode": {
        "name": "ipython",
        "version": 3
      },
      "file_extension": ".py",
      "mimetype": "text/x-python",
      "name": "python",
      "nbconvert_exporter": "python",
      "pygments_lexer": "ipython3",
      "version": "3.9.5"
    },
    "colab": {
      "provenance": [],
      "include_colab_link": true
    }
  },
  "nbformat": 4,
  "nbformat_minor": 5
}