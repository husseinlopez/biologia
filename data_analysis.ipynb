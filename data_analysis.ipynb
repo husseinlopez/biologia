{
 "cells": [
  {
   "cell_type": "markdown",
   "id": "a1970319-eeae-47d3-b1ba-02067e9a4b10",
   "metadata": {},
   "source": [
    "# Introducción al análisis de datos con Python"
   ]
  },
  {
   "cell_type": "markdown",
   "id": "e17f3955-565b-4cdb-abf0-d4c3fa38035a",
   "metadata": {
    "tags": []
   },
   "source": [
    "Presentación"
   ]
  },
  {
   "cell_type": "markdown",
   "id": "97600bcf-a82d-4446-8a7c-98dd93fea529",
   "metadata": {},
   "source": [
    "### Instalación de Python"
   ]
  },
  {
   "cell_type": "code",
   "execution_count": null,
   "id": "86eff430-0d9b-48a5-8d59-9aa6630f8561",
   "metadata": {},
   "outputs": [],
   "source": []
  }
 ],
 "metadata": {
  "kernelspec": {
   "display_name": "Python 3 (ipykernel)",
   "language": "python",
   "name": "python3"
  },
  "language_info": {
   "codemirror_mode": {
    "name": "ipython",
    "version": 3
   },
   "file_extension": ".py",
   "mimetype": "text/x-python",
   "name": "python",
   "nbconvert_exporter": "python",
   "pygments_lexer": "ipython3",
   "version": "3.9.5"
  }
 },
 "nbformat": 4,
 "nbformat_minor": 5
}
